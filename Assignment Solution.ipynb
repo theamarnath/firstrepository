{
 "cells": [
  {
   "cell_type": "code",
   "execution_count": 12,
   "metadata": {},
   "outputs": [],
   "source": [
    "#creating menu as per the question using nested dictionaries\n",
    "menu = {\n",
    "    'Cone Type':{'Plain Cone':1.5, 'Waffle Cone':2, 'Cup':1},\n",
    "    'Scoop Flavours':{'Vanilla':0.5, 'Strawberry':0.5, 'Chocolate':0.5, 'Caramel':0.5, 'Mint':0.5, 'Rainbow':0.5, 'Coffee':0.5, 'Bubble Gum':0.5},\n",
    "    'Topping Choices':{'Peanuts':0.75, 'Caramel Sauce':0.5, 'Rainbow Sprinkles':0.5, 'Pecan':1, 'Chocolate Sprinkles':0.5}\n",
    "}"
   ]
  },
  {
   "cell_type": "code",
   "execution_count": 2,
   "metadata": {},
   "outputs": [
    {
     "name": "stdout",
     "output_type": "stream",
     "text": [
      "Please enter your nameamar nath\n",
      "Hello Amar!\n"
     ]
    }
   ],
   "source": [
    "#taking name from user\n",
    "name = input(\"Please enter your name\")\n",
    "\n",
    "#printing customised name for interactive experience\n",
    "print(\"Hello {}!\".format(name.split(\" \")[0].title()))"
   ]
  },
  {
   "cell_type": "code",
   "execution_count": 6,
   "metadata": {},
   "outputs": [
    {
     "name": "stdout",
     "output_type": "stream",
     "text": [
      "How many Ice Creams you want?2\n",
      "Number confirmed - 2\n"
     ]
    }
   ],
   "source": [
    "#function to give error until a valid number is provided\n",
    "def start_order():\n",
    "    n = input(\"How many Ice Creams you want?\")\n",
    "    try:\n",
    "        n = int(n)\n",
    "        print(\"Number confirmed - {}\".format(n))\n",
    "        return n\n",
    "    except:\n",
    "        print(\"Enter a valid number\")\n",
    "        start_order()\n",
    "\n",
    "#save the number received from user    \n",
    "num_ice_creams = start_order()"
   ]
  },
  {
   "cell_type": "code",
   "execution_count": 9,
   "metadata": {},
   "outputs": [
    {
     "name": "stdout",
     "output_type": "stream",
     "text": [
      "Enter the ice cream cone.plain cone\n",
      "Enter scoops seperated by ','. You can choose upto 3.vanilla, chocolate\n",
      "Enter Topping seperated by ','. You can choose upto 4.peanuts, pecan\n",
      "Enter the ice cream cone.waffle cone\n",
      "Enter scoops seperated by ','. You can choose upto 3.caramel , mint\n",
      "Enter Topping seperated by ','. You can choose upto 4.rainbow sprinkles, pecan\n",
      "[[['Plain Cone'], ['Vanilla', 'Chocolate'], ['Peanuts', 'Pecan']], [['Waffle Cone'], ['Caramel', 'Mint'], ['Rainbow Sprinkles', 'Pecan']]]\n"
     ]
    }
   ],
   "source": [
    "#all the details of cone type/scoop/topping will be taken\n",
    "#all the inputs will then be cleaned and checked\n",
    "#if correct, the recieved input will be stored in a nested list format\n",
    "order_details = []\n",
    "\n",
    "#creating loop to match the name and number of cones, scoops and flavours ordered and save in a list\n",
    "\n",
    "for i in range(num_ice_creams):\n",
    "    #get cone type and check from the mene before appending\n",
    "    order_list = [[]]\n",
    "    cone = input(\"Enter the ice cream cone.\").strip().title()\n",
    "    if cone not in menu['Cone Type']:\n",
    "        print(\"Cone type is incorrect, refresh and enter again\")\n",
    "        order_details = []\n",
    "        break\n",
    "    order_list[0].append(cone)\n",
    "    \n",
    "    #get scoops and check the name and quantity before appending\n",
    "    scoops = input(\"Enter scoops seperated by ','. You can choose upto 3.\").split(\",\")\n",
    "    if len(scoops) > 3:\n",
    "        print(\"You have exceeded allowed limit, refresh and enter again.\")\n",
    "        order_details = []\n",
    "        break\n",
    "    logic1 = 0\n",
    "    for idx in range(len(scoops)):\n",
    "        scoops[idx] = scoops[idx].strip().title()\n",
    "        if scoops[idx] not in menu['Scoop Flavours']:\n",
    "            logic1 = 1\n",
    "    if logic1 == 1:\n",
    "        order_details = []\n",
    "        print(\"Scoop name not correct, refresh and enter again.\")\n",
    "        break    \n",
    "    order_list.append(scoops)\n",
    "    \n",
    "    #get Toppings and check the name and quantity before appending\n",
    "    Topping = input(\"Enter Topping seperated by ','. You can choose upto 4.\").split(\",\")\n",
    "    if len(Topping) > 4:\n",
    "        print(\"You have exceeded allowed limit, refresh and enter again.\")\n",
    "        order_details = []\n",
    "        break\n",
    "    logic2 = 0\n",
    "    for idx in range(len(Topping)):\n",
    "        Topping[idx] = Topping[idx].strip().title()\n",
    "        if Topping[idx] not in menu['Topping Choices']:\n",
    "            logic2 = 1\n",
    "    if logic2 == 1:\n",
    "        order_details = []\n",
    "        print(\"Topping name not correct, refresh and enter again.\")\n",
    "        break    \n",
    "    order_list.append(Topping)\n",
    "    \n",
    "    order_details.append(order_list)\n",
    "    \n",
    "print(order_details)"
   ]
  },
  {
   "cell_type": "code",
   "execution_count": 18,
   "metadata": {
    "scrolled": false
   },
   "outputs": [
    {
     "name": "stdout",
     "output_type": "stream",
     "text": [
      "Order item 1 - Plain Cone\n",
      "Scoop Flavour 1 - Vanilla\n",
      "Scoop Flavour 2 - Chocolate\n",
      "Topping 1 - Peanuts\n",
      "Topping 2 - Pecan\n",
      "\n",
      "Order item 2 - Waffle Cone\n",
      "Scoop Flavour 1 - Caramel\n",
      "Scoop Flavour 2 - Mint\n",
      "Topping 1 - Rainbow Sprinkles\n",
      "Topping 2 - Pecan\n",
      "\n",
      "Total Bill Amount is 8.75\n"
     ]
    }
   ],
   "source": [
    "#total amount by adding all the individual amounts through looping\n",
    "order_amount = 0\n",
    "\n",
    "#looping through the main list top layer\n",
    "for i in range(len(order_details)):\n",
    "    order_amount = order_amount + menu['Cone Type'][order_details[i][0][0]]\n",
    "    print(\"Order item {} - {}\".format(i+1, order_details[i][0][0]))\n",
    "    #looping through the second layer of scoop flavour list, which is the second list in position\n",
    "    for j in range(len(order_details[i][1])):\n",
    "        order_amount = order_amount + menu['Scoop Flavours'][order_details[i][1][j]]\n",
    "        print(\"Scoop Flavour {} - {}\".format(j+1, order_details[i][1][j]))\n",
    "    #looping through the second layer of Topping list, which is the Last list in position\n",
    "    for k in range(len(order_details[i][2])):\n",
    "        order_amount = order_amount + menu['Topping Choices'][order_details[i][2][k]]\n",
    "        print(\"Topping {} - {}\".format(k+1, order_details[i][2][k]))\n",
    "    #extra print for improved readability\n",
    "    print(\"\")\n",
    "#printing order amount in the end after listing all the ordered items\n",
    "print(\"Total Bill Amount is {}\".format(order_amount))"
   ]
  }
 ],
 "metadata": {
  "kernelspec": {
   "display_name": "Python 3",
   "language": "python",
   "name": "python3"
  },
  "language_info": {
   "codemirror_mode": {
    "name": "ipython",
    "version": 3
   },
   "file_extension": ".py",
   "mimetype": "text/x-python",
   "name": "python",
   "nbconvert_exporter": "python",
   "pygments_lexer": "ipython3",
   "version": "3.7.4"
  }
 },
 "nbformat": 4,
 "nbformat_minor": 2
}
